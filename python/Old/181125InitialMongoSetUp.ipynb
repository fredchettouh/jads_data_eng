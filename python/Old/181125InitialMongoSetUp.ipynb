{
 "cells": [
  {
   "cell_type": "markdown",
   "metadata": {},
   "source": [
    "This notebook illustrates the initial set up for the sensoring app"
   ]
  },
  {
   "cell_type": "code",
   "execution_count": 1,
   "metadata": {
    "collapsed": true
   },
   "outputs": [],
   "source": [
    "# this script should only be run once before the service is set up\n",
    "# it makes sure that the database has the appropriate set up, i.e. has capped collections\n",
    "# this is only a place holder since the implementation in Node did not work\n",
    "\n",
    "# importing the required packages\n",
    "import time\n",
    "import numpy\n",
    "from pymongo import MongoClient\n",
    "import pymongo\n",
    "\n",
    "\n",
    "#setting the configuration\n",
    "mongoClient=MongoClient('localhost:27017')\n",
    "db=mongoClient.sensor\n",
    "\n",
    "#dropping eventual collections\n",
    "try:\n",
    "\tdb.users.drop()\n",
    "\tdb.recordings.drop()\n",
    "except  e:\n",
    "        print('nothing to drop')\n",
    "\n",
    "# creating collections in the correct format\n",
    "\n",
    "db.create_collection('users',capped=True, size= 100000000 )\n",
    "db.create_collection('recordings',capped=True, size= 100000000 )\n",
    "\n",
    "users=db.users\n",
    "recordings=db.recorings\n",
    "\n",
    "mongoClient.close()"
   ]
  },
  {
   "cell_type": "code",
   "execution_count": null,
   "metadata": {
    "collapsed": true
   },
   "outputs": [],
   "source": []
  }
 ],
 "metadata": {
  "kernelspec": {
   "display_name": "Python (myenv)",
   "language": "python",
   "name": "sensorenv"
  },
  "language_info": {
   "codemirror_mode": {
    "name": "ipython",
    "version": 3
   },
   "file_extension": ".py",
   "mimetype": "text/x-python",
   "name": "python",
   "nbconvert_exporter": "python",
   "pygments_lexer": "ipython3",
   "version": "3.6.7"
  }
 },
 "nbformat": 4,
 "nbformat_minor": 2
}
