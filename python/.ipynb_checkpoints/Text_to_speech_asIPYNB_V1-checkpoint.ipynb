{
 "cells": [
  {
   "cell_type": "code",
   "execution_count": 2,
   "metadata": {
    "collapsed": true
   },
   "outputs": [],
   "source": [
    "#installing packages\n",
    "import os\n",
    "import io\n",
    "import numpy\n",
    "from pymongo import MongoClient\n",
    "import pymongo\n",
    "from google.cloud import speech\n",
    "from google.cloud.speech import enums\n",
    "from google.cloud.speech import types\n",
    "# used to search mongodb objects using the object ID \n",
    "from bson.objectid import ObjectId\n",
    "import base64\n",
    "\n",
    "\n"
   ]
  },
  {
   "cell_type": "code",
   "execution_count": 3,
   "metadata": {
    "collapsed": true
   },
   "outputs": [],
   "source": [
    "# set up for the  google cloud services, has to run for every session \n",
    "#i.e. everytime the terminal is shut down\n",
    "path=\"/Users/frederikchettouh/GoogleDrive/University/JADS_drive/1_Semester/181018_Data-engineering/sensor/python/My_Project-36118423d33f.json\"\n",
    "os.environ[\"GOOGLE_APPLICATION_CREDENTIALS\"]=path\n"
   ]
  },
  {
   "cell_type": "code",
   "execution_count": 4,
   "metadata": {
    "collapsed": true
   },
   "outputs": [],
   "source": [
    "#connecting to MongoDB\n",
    "mongoClient=MongoClient('localhost:27017')\n",
    "db=mongoClient.sensor\n",
    "recordings=db.recordings"
   ]
  },
  {
   "cell_type": "code",
   "execution_count": 31,
   "metadata": {
    "collapsed": true
   },
   "outputs": [],
   "source": [
    "#creating a client for interaction with the API\n",
    "googleClient = speech.SpeechClient()"
   ]
  },
  {
   "cell_type": "code",
   "execution_count": 22,
   "metadata": {
    "collapsed": true
   },
   "outputs": [],
   "source": [
    "#fetching the latest recording\n",
    "def get_latest_entry(collections,search_term):\n",
    "    return collection.find_one(\n",
    "    sort=[(search_term,pymongo.DESCENDING)])\n",
    "#converting back to wav\n",
    "\n",
    "def base64_to_wav(base_64_string,key):\n",
    "    processed_string=base_64_string[key].split('wav;base64,').pop()\n",
    "    return base64.b64decode(processed_string)\n",
    " \n"
   ]
  },
  {
   "cell_type": "code",
   "execution_count": 28,
   "metadata": {
    "collapsed": true
   },
   "outputs": [],
   "source": [
    "def speech_to_text(wav_file):\n",
    "    audio = types.RecognitionAudio(content=wav_file)\n",
    "    config = types.RecognitionConfig(\n",
    "    encoding=enums.RecognitionConfig.AudioEncoding.LINEAR16,\n",
    "    sample_rate_hertz=44100,\n",
    "    language_code='en-UK')\n",
    "    response = googleClient.recognize(config, audio)\n",
    "    for result in response.results:\n",
    "        print('Transcript: {}'.format(result.alternatives[0].transcript))\n",
    "    return response"
   ]
  }
 ],
 "metadata": {
  "kernelspec": {
   "display_name": "Python (myenv)",
   "language": "python",
   "name": "sensorenv"
  },
  "language_info": {
   "codemirror_mode": {
    "name": "ipython",
    "version": 3
   },
   "file_extension": ".py",
   "mimetype": "text/x-python",
   "name": "python",
   "nbconvert_exporter": "python",
   "pygments_lexer": "ipython3",
   "version": "3.6.7"
  }
 },
 "nbformat": 4,
 "nbformat_minor": 2
}
