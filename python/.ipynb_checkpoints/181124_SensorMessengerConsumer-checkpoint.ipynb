{
 "cells": [
  {
   "cell_type": "markdown",
   "metadata": {},
   "source": [
    "This notebook outlines how to stream data from mongo and send it to google"
   ]
  },
  {
   "cell_type": "code",
   "execution_count": 1,
   "metadata": {
    "collapsed": true
   },
   "outputs": [],
   "source": [
    "#installing packages\n",
    "import os\n",
    "import io\n",
    "import numpy\n",
    "from pymongo import MongoClient\n",
    "import pymongo\n",
    "from google.cloud import speech\n",
    "from google.cloud.speech import enums\n",
    "from google.cloud.speech import types\n",
    "# used to search mongodb objects using the object ID \n",
    "from bson.objectid import ObjectId\n",
    "import base64\n",
    "from kafka import KafkaProducer\n",
    "import time\n",
    "import datetime\n",
    "from bson import json_util \n",
    "import json \n",
    "\n",
    "\n",
    "\n",
    "\n"
   ]
  },
  {
   "cell_type": "code",
   "execution_count": 2,
   "metadata": {
    "collapsed": true
   },
   "outputs": [],
   "source": [
    "# set up for the  google cloud services, has to run for every session \n",
    "#i.e. everytime the terminal is shut down\n",
    "path=\"/Users/frederikchettouh/GoogleDrive/University/JADS_drive/1_Semester/181018_Data-engineering/sensor/python/My_Project-36118423d33f.json\"\n",
    "os.environ[\"GOOGLE_APPLICATION_CREDENTIALS\"]=path\n",
    "\n",
    "#creating a client for interaction with the API\n",
    "googleClient = speech.SpeechClient()"
   ]
  },
  {
   "cell_type": "code",
   "execution_count": 3,
   "metadata": {
    "collapsed": true
   },
   "outputs": [],
   "source": [
    "#detailing the connection\n",
    "mongoClient=MongoClient('localhost:27017')\n",
    "db=mongoClient.sensor\n",
    "users=db.users\n",
    "recordings=db.recordings"
   ]
  },
  {
   "cell_type": "code",
   "execution_count": 4,
   "metadata": {
    "collapsed": true
   },
   "outputs": [],
   "source": [
    "producer = KafkaProducer(bootstrap_servers='localhost:9092')\n",
    "kafkaTopic='sensor_debugging_1'"
   ]
  },
  {
   "cell_type": "code",
   "execution_count": 5,
   "metadata": {
    "collapsed": true
   },
   "outputs": [],
   "source": [
    "#defining the function that converts the string\n",
    "def base64_to_wav(base_64_string):\n",
    "    processed_string=base_64_string.split('wav;base64,').pop()\n",
    "    return base64.b64decode(processed_string)"
   ]
  },
  {
   "cell_type": "code",
   "execution_count": 6,
   "metadata": {
    "collapsed": true
   },
   "outputs": [],
   "source": [
    "#sending a message out to the kafk consumer\n",
    "#because Kafka only takes bytes we have to encode the Mongo Response\n",
    "#into a bytes object\n",
    "\n",
    "def send_message(message,topic):\n",
    "    producer.send(topic, json.dumps(message, default=json_util.default).encode())\n",
    "    return"
   ]
  },
  {
   "cell_type": "code",
   "execution_count": 7,
   "metadata": {
    "collapsed": true
   },
   "outputs": [],
   "source": [
    "# defining the API call\n",
    "def speech_to_text(wav_file):\n",
    "    audio = types.RecognitionAudio(content=wav_file)\n",
    "    config = types.RecognitionConfig(\n",
    "    encoding=enums.RecognitionConfig.AudioEncoding.LINEAR16,\n",
    "    sample_rate_hertz=44100,\n",
    "    language_code='en-UK')\n",
    "    response = googleClient.recognize(config, audio)\n",
    "    for result in response.results:\n",
    "        print('Transcript: {}'.format(result.alternatives[0].transcript))\n",
    "        \n",
    "    return response"
   ]
  },
  {
   "cell_type": "code",
   "execution_count": 8,
   "metadata": {
    "collapsed": true
   },
   "outputs": [],
   "source": [
    "def getDate(timestamp):\n",
    "    return{'year':timestamp.year,'month':timestamp.month,'day':timestamp.day}"
   ]
  },
  {
   "cell_type": "code",
   "execution_count": 10,
   "metadata": {},
   "outputs": [
    {
     "name": "stdout",
     "output_type": "stream",
     "text": [
      "this is iteration number 1\n",
      "Transcript: Ryanair pilots Ford automatic safety system before plane plunged\n",
      "[alternatives {\n",
      "  transcript: \"Ryanair pilots Ford automatic safety system before plane plunged\"\n",
      "  confidence: 0.8848689794540405\n",
      "}\n",
      "]\n",
      "this is iteration number 2\n",
      "Transcript: it's official brexit will be bad for the UK economy\n",
      "[alternatives {\n",
      "  transcript: \"it\\'s official brexit will be bad for the UK economy\"\n",
      "  confidence: 0.9692506194114685\n",
      "}\n",
      "]\n",
      "this is iteration number 3\n",
      "[]\n"
     ]
    },
    {
     "ename": "IndexError",
     "evalue": "list index out of range",
     "output_type": "error",
     "traceback": [
      "\u001b[0;31m---------------------------------------------------------------------------\u001b[0m",
      "\u001b[0;31mIndexError\u001b[0m                                Traceback (most recent call last)",
      "\u001b[0;32m<ipython-input-10-b1c40f47c30d>\u001b[0m in \u001b[0;36m<module>\u001b[0;34m\u001b[0m\n\u001b[1;32m     15\u001b[0m             \u001b[0mtranscripts\u001b[0m\u001b[0;34m=\u001b[0m\u001b[0mspeech_to_text\u001b[0m\u001b[0;34m(\u001b[0m\u001b[0mbinary_sound_file\u001b[0m\u001b[0;34m)\u001b[0m\u001b[0;34m\u001b[0m\u001b[0;34m\u001b[0m\u001b[0m\n\u001b[1;32m     16\u001b[0m             \u001b[0mprint\u001b[0m\u001b[0;34m(\u001b[0m\u001b[0mtranscripts\u001b[0m\u001b[0;34m.\u001b[0m\u001b[0mresults\u001b[0m\u001b[0;34m)\u001b[0m\u001b[0;34m\u001b[0m\u001b[0;34m\u001b[0m\u001b[0m\n\u001b[0;32m---> 17\u001b[0;31m             \u001b[0mrecording\u001b[0m\u001b[0;34m[\u001b[0m\u001b[0;34m'content'\u001b[0m\u001b[0;34m]\u001b[0m\u001b[0;34m=\u001b[0m\u001b[0mtranscripts\u001b[0m\u001b[0;34m.\u001b[0m\u001b[0mresults\u001b[0m\u001b[0;34m[\u001b[0m\u001b[0;36m0\u001b[0m\u001b[0;34m]\u001b[0m\u001b[0;34m.\u001b[0m\u001b[0malternatives\u001b[0m\u001b[0;34m[\u001b[0m\u001b[0;36m0\u001b[0m\u001b[0;34m]\u001b[0m\u001b[0;34m.\u001b[0m\u001b[0mtranscript\u001b[0m\u001b[0;34m\u001b[0m\u001b[0;34m\u001b[0m\u001b[0m\n\u001b[0m\u001b[1;32m     18\u001b[0m             \u001b[0msend_message\u001b[0m\u001b[0;34m(\u001b[0m\u001b[0mrecording\u001b[0m\u001b[0;34m,\u001b[0m\u001b[0mkafkaTopic\u001b[0m\u001b[0;34m)\u001b[0m\u001b[0;34m\u001b[0m\u001b[0;34m\u001b[0m\u001b[0m\n\u001b[1;32m     19\u001b[0m         \u001b[0;32mexcept\u001b[0m \u001b[0mStopIteration\u001b[0m\u001b[0;34m:\u001b[0m\u001b[0;34m\u001b[0m\u001b[0;34m\u001b[0m\u001b[0m\n",
      "\u001b[0;31mIndexError\u001b[0m: list index out of range"
     ]
    }
   ],
   "source": [
    "#implementing the listener for mongo\n",
    "x=1\n",
    "# cursor = recordings.find(cursor_type=pymongo.CursorType.TAILABLE)\n",
    "while True:\n",
    "    x=1\n",
    "    cursor = recordings.find(cursor_type=pymongo.CursorType.TAILABLE)\n",
    "    while cursor.alive:\n",
    "        print('this is iteration number {}'.format(x))\n",
    "        x=x+1\n",
    "        try:\n",
    "            recording = cursor.next()\n",
    "            recording['timeStamp']=getDate(datetime.datetime.now())\n",
    "            sound_file=recording['content']\n",
    "            binary_sound_file=base64_to_wav(sound_file)\n",
    "            transcripts=speech_to_text(binary_sound_file)\n",
    "            if len(transcripts.results):\n",
    "                recording['content']=transcripts.results[0].alternatives[0].transcript\n",
    "                send_message(recording,kafkaTopic)\n",
    "        except StopIteration:\n",
    "            time.sleep(2)\n",
    "    time.sleep(5)\n",
    "\n",
    "\n",
    "\n"
   ]
  },
  {
   "cell_type": "code",
   "execution_count": 12,
   "metadata": {},
   "outputs": [
    {
     "data": {
      "text/plain": [
       "0"
      ]
     },
     "execution_count": 12,
     "metadata": {},
     "output_type": "execute_result"
    }
   ],
   "source": [
    "len([])"
   ]
  },
  {
   "cell_type": "code",
   "execution_count": null,
   "metadata": {
    "collapsed": true
   },
   "outputs": [],
   "source": []
  }
 ],
 "metadata": {
  "kernelspec": {
   "display_name": "Python (myenv)",
   "language": "python",
   "name": "sensorenv"
  },
  "language_info": {
   "codemirror_mode": {
    "name": "ipython",
    "version": 3
   },
   "file_extension": ".py",
   "mimetype": "text/x-python",
   "name": "python",
   "nbconvert_exporter": "python",
   "pygments_lexer": "ipython3",
   "version": "3.6.7"
  }
 },
 "nbformat": 4,
 "nbformat_minor": 2
}
