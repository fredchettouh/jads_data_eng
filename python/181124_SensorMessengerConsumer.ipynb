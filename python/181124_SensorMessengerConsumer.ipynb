{
 "cells": [
  {
   "cell_type": "markdown",
   "metadata": {},
   "source": [
    "This notebook outlines how to stream data from mongo and send it to google"
   ]
  },
  {
   "cell_type": "code",
   "execution_count": null,
   "metadata": {
    "collapsed": true
   },
   "outputs": [],
   "source": [
    "#installing packages\n",
    "import os\n",
    "import io\n",
    "import numpy\n",
    "from pymongo import MongoClient\n",
    "import pymongo\n",
    "from google.cloud import speech\n",
    "from google.cloud.speech import enums\n",
    "from google.cloud.speech import types\n",
    "# used to search mongodb objects using the object ID \n",
    "from bson.objectid import ObjectId\n",
    "import base64\n",
    "from kafka import KafkaProducer\n",
    "import time\n",
    "import datetime\n",
    "from bson import json_util \n",
    "import json \n",
    "\n",
    "\n",
    "\n",
    "\n"
   ]
  },
  {
   "cell_type": "code",
   "execution_count": null,
   "metadata": {
    "collapsed": true
   },
   "outputs": [],
   "source": [
    "# set up for the  google cloud services, has to run for every session \n",
    "#i.e. everytime the terminal is shut down\n",
    "path=\"/Users/frederikchettouh/GoogleDrive/University/JADS_drive/1_Semester/181018_Data-engineering/sensor/python/My_Project-36118423d33f.json\"\n",
    "os.environ[\"GOOGLE_APPLICATION_CREDENTIALS\"]=path\n",
    "\n",
    "#creating a client for interaction with the API\n",
    "googleClient = speech.SpeechClient()"
   ]
  },
  {
   "cell_type": "code",
   "execution_count": null,
   "metadata": {
    "collapsed": true
   },
   "outputs": [],
   "source": [
    "#detailing the connection\n",
    "mongoClient=MongoClient('localhost:27017')\n",
    "db=mongoClient.sensor\n",
    "users=db.users\n",
    "recordings=db.recordings"
   ]
  },
  {
   "cell_type": "code",
   "execution_count": null,
   "metadata": {
    "collapsed": true
   },
   "outputs": [],
   "source": [
    "producer = KafkaProducer(bootstrap_servers='localhost:9092')\n",
    "kafkaTopic='sensor_debugging_1'"
   ]
  },
  {
   "cell_type": "code",
   "execution_count": null,
   "metadata": {
    "collapsed": true
   },
   "outputs": [],
   "source": [
    "#defining the function that converts the string\n",
    "def base64_to_wav(base_64_string):\n",
    "    processed_string=base_64_string.split('wav;base64,').pop()\n",
    "    return base64.b64decode(processed_string)"
   ]
  },
  {
   "cell_type": "code",
   "execution_count": null,
   "metadata": {
    "collapsed": true
   },
   "outputs": [],
   "source": [
    "#sending a message out to the kafk consumer\n",
    "#because Kafka only takes bytes we have to encode the Mongo Response\n",
    "#into a bytes object\n",
    "\n",
    "def send_message(message,topic):\n",
    "    producer.send(topic, json.dumps(message, default=json_util.default).encode())\n",
    "    return"
   ]
  },
  {
   "cell_type": "code",
   "execution_count": null,
   "metadata": {
    "collapsed": true
   },
   "outputs": [],
   "source": [
    "# defining the API call\n",
    "def speech_to_text(wav_file):\n",
    "    audio = types.RecognitionAudio(content=wav_file)\n",
    "    config = types.RecognitionConfig(\n",
    "    encoding=enums.RecognitionConfig.AudioEncoding.LINEAR16,\n",
    "    sample_rate_hertz=44100,\n",
    "    language_code='en-UK')\n",
    "    response = googleClient.recognize(config, audio)\n",
    "    for result in response.results:\n",
    "        print('Transcript: {}'.format(result.alternatives[0].transcript))\n",
    "        \n",
    "    return response"
   ]
  },
  {
   "cell_type": "code",
   "execution_count": null,
   "metadata": {
    "collapsed": true
   },
   "outputs": [],
   "source": [
    "def getDate(timestamp):\n",
    "    return{'year':timestamp.year,'month':timestamp.month,'day':timestamp.day}"
   ]
  },
  {
   "cell_type": "code",
   "execution_count": null,
   "metadata": {},
   "outputs": [],
   "source": [
    "#implementing the listener for mongo\n",
    "x=1\n",
    "# cursor = recordings.find(cursor_type=pymongo.CursorType.TAILABLE)\n",
    "while True:\n",
    "    x=1\n",
    "    cursor = recordings.find(cursor_type=pymongo.CursorType.TAILABLE)\n",
    "    while cursor.alive:\n",
    "        print('this is iteration number {}'.format(x))\n",
    "        x=x+1\n",
    "        try:\n",
    "            recording = cursor.next()\n",
    "            recording['timeStamp']=getDate(datetime.datetime.now())\n",
    "            sound_file=recording['content']\n",
    "            binary_sound_file=base64_to_wav(sound_file)\n",
    "            transcripts=speech_to_text(binary_sound_file)\n",
    "            if len(transcripts.results):\n",
    "                print(transcripts.results)\n",
    "                recording['content']=transcripts.results[0].alternatives[0].transcript\n",
    "                send_message(recording,kafkaTopic)\n",
    "        except StopIteration:\n",
    "            time.sleep(2)\n",
    "    time.sleep(5)\n",
    "\n",
    "\n",
    "\n"
   ]
  },
  {
   "cell_type": "code",
   "execution_count": null,
   "metadata": {},
   "outputs": [],
   "source": [
    "len([])"
   ]
  },
  {
   "cell_type": "code",
   "execution_count": null,
   "metadata": {
    "collapsed": true
   },
   "outputs": [],
   "source": []
  }
 ],
 "metadata": {
  "kernelspec": {
   "display_name": "Python (myenv)",
   "language": "python",
   "name": "sensorenv"
  },
  "language_info": {
   "codemirror_mode": {
    "name": "ipython",
    "version": 3
   },
   "file_extension": ".py",
   "mimetype": "text/x-python",
   "name": "python",
   "nbconvert_exporter": "python",
   "pygments_lexer": "ipython3",
   "version": "3.6.7"
  }
 },
 "nbformat": 4,
 "nbformat_minor": 2
}
